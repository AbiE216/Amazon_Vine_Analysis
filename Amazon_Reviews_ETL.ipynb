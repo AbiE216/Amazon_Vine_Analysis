{
  "nbformat": 4,
  "nbformat_minor": 0,
  "metadata": {
    "colab": {
      "provenance": [],
      "collapsed_sections": []
    },
    "kernelspec": {
      "name": "python3",
      "display_name": "Python 3"
    },
    "nteract": {
      "version": "0.12.3"
    },
    "language_info": {
      "name": "python"
    }
  },
  "cells": [
    {
      "cell_type": "code",
      "metadata": {
        "id": "V58rxea0HqSa",
        "colab": {
          "base_uri": "https://localhost:8080/"
        },
        "outputId": "418a460d-74c2-4c22-a970-1e87f48258fb"
      },
      "source": [
        "import os\n",
        "\n",
        "# Find the latest versions of\n",
        "#   Spark & Hadoop:  https://www.apache.org/dist/spark/\n",
        "#                    https://spark.apache.org/downloads.html\n",
        "#   Postgres driver: https://jdbc.postgresql.org/\n",
        "os.environ['HADOOP_VERSION']   = hadoop_version   = 'hadoop3'\n",
        "os.environ['SPARK_VERSION']    = spark_version    = 'spark-3.3.0'\n",
        "os.environ['POSTGRES_VERSION'] = postgres_version = 'postgresql-42.5.0'\n",
        "\n",
        "! apt update\n",
        "! apt full-upgrade\n",
        "! apt autoremove\n",
        "\n",
        "# Install Java\n",
        "! apt install openjdk-11-jdk-headless > /dev/null\n",
        "os.environ['JAVA_HOME']  = '/usr/lib/jvm/java-11-openjdk-amd64'\n",
        "\n",
        "# Install Spark\n",
        "! wget https://www.apache.org/dist/spark/$SPARK_VERSION/$SPARK_VERSION-bin-$HADOOP_VERSION.tgz\n",
        "! tar xf $SPARK_VERSION-bin-$HADOOP_VERSION.tgz\n",
        "os.environ['SPARK_HOME'] = f'/content/{spark_version}-bin-{hadoop_version}'\n",
        "! pip install findspark\n",
        "\n",
        "# Install Postgres driver\n",
        "! wget https://jdbc.postgresql.org/download/$POSTGRES_VERSION.jar\n",
        "\n",
        "# Install AWS's Boto3\n",
        "! pip install boto3\n",
        "\n",
        "! pwd && ls -al"
      ],
      "execution_count": 7,
      "outputs": [
        {
          "output_type": "stream",
          "name": "stdout",
          "text": [
            "Hit:1 https://cloud.r-project.org/bin/linux/ubuntu bionic-cran40/ InRelease\n",
            "Hit:2 http://security.ubuntu.com/ubuntu bionic-security InRelease\n",
            "Hit:3 http://ppa.launchpad.net/c2d4u.team/c2d4u4.0+/ubuntu bionic InRelease\n",
            "Hit:4 http://archive.ubuntu.com/ubuntu bionic InRelease\n",
            "Hit:5 http://archive.ubuntu.com/ubuntu bionic-updates InRelease\n",
            "Ign:6 https://developer.download.nvidia.com/compute/machine-learning/repos/ubuntu1804/x86_64  InRelease\n",
            "Hit:7 https://developer.download.nvidia.com/compute/cuda/repos/ubuntu1804/x86_64  InRelease\n",
            "Hit:8 http://ppa.launchpad.net/cran/libgit2/ubuntu bionic InRelease\n",
            "Hit:9 http://archive.ubuntu.com/ubuntu bionic-backports InRelease\n",
            "Hit:10 https://developer.download.nvidia.com/compute/machine-learning/repos/ubuntu1804/x86_64  Release\n",
            "Hit:11 http://ppa.launchpad.net/deadsnakes/ppa/ubuntu bionic InRelease\n",
            "Hit:12 http://ppa.launchpad.net/graphics-drivers/ppa/ubuntu bionic InRelease\n",
            "Reading package lists... Done\n",
            "Building dependency tree       \n",
            "Reading state information... Done\n",
            "4 packages can be upgraded. Run 'apt list --upgradable' to see them.\n",
            "Reading package lists... Done\n",
            "Building dependency tree       \n",
            "Reading state information... Done\n",
            "Calculating upgrade... Done\n",
            "The following packages have been kept back:\n",
            "  libcudnn8 libcudnn8-dev libnccl-dev libnccl2\n",
            "0 upgraded, 0 newly installed, 0 to remove and 4 not upgraded.\n",
            "Reading package lists... Done\n",
            "Building dependency tree       \n",
            "Reading state information... Done\n",
            "0 upgraded, 0 newly installed, 0 to remove and 4 not upgraded.\n",
            "\n",
            "WARNING: apt does not have a stable CLI interface. Use with caution in scripts.\n",
            "\n",
            "--2022-10-17 17:34:25--  https://www.apache.org/dist/spark/spark-3.3.0/spark-3.3.0-bin-hadoop3.tgz\n",
            "Resolving www.apache.org (www.apache.org)... 151.101.2.132, 2a04:4e42::644\n",
            "Connecting to www.apache.org (www.apache.org)|151.101.2.132|:443... connected.\n",
            "HTTP request sent, awaiting response... 302 Found\n",
            "Location: https://downloads.apache.org/spark/spark-3.3.0/spark-3.3.0-bin-hadoop3.tgz [following]\n",
            "--2022-10-17 17:34:25--  https://downloads.apache.org/spark/spark-3.3.0/spark-3.3.0-bin-hadoop3.tgz\n",
            "Resolving downloads.apache.org (downloads.apache.org)... 88.99.95.219, 135.181.214.104, 2a01:4f8:10a:201a::2, ...\n",
            "Connecting to downloads.apache.org (downloads.apache.org)|88.99.95.219|:443... connected.\n",
            "HTTP request sent, awaiting response... 200 OK\n",
            "Length: 299321244 (285M) [application/x-gzip]\n",
            "Saving to: ‘spark-3.3.0-bin-hadoop3.tgz.2’\n",
            "\n",
            "spark-3.3.0-bin-had 100%[===================>] 285.45M  12.1MB/s    in 26s     \n",
            "\n",
            "2022-10-17 17:34:52 (11.1 MB/s) - ‘spark-3.3.0-bin-hadoop3.tgz.2’ saved [299321244/299321244]\n",
            "\n",
            "Looking in indexes: https://pypi.org/simple, https://us-python.pkg.dev/colab-wheels/public/simple/\n",
            "Requirement already satisfied: findspark in /usr/local/lib/python3.7/dist-packages (2.0.1)\n",
            "--2022-10-17 17:34:59--  https://jdbc.postgresql.org/download/postgresql-42.5.0.jar\n",
            "Resolving jdbc.postgresql.org (jdbc.postgresql.org)... 72.32.157.228, 2001:4800:3e1:1::228\n",
            "Connecting to jdbc.postgresql.org (jdbc.postgresql.org)|72.32.157.228|:443... connected.\n",
            "HTTP request sent, awaiting response... 200 OK\n",
            "Length: 1046274 (1022K) [application/java-archive]\n",
            "Saving to: ‘postgresql-42.5.0.jar.2’\n",
            "\n",
            "postgresql-42.5.0.j 100%[===================>]   1022K  1.22MB/s    in 0.8s    \n",
            "\n",
            "2022-10-17 17:35:01 (1.22 MB/s) - ‘postgresql-42.5.0.jar.2’ saved [1046274/1046274]\n",
            "\n",
            "Looking in indexes: https://pypi.org/simple, https://us-python.pkg.dev/colab-wheels/public/simple/\n",
            "Requirement already satisfied: boto3 in /usr/local/lib/python3.7/dist-packages (1.24.91)\n",
            "Requirement already satisfied: s3transfer<0.7.0,>=0.6.0 in /usr/local/lib/python3.7/dist-packages (from boto3) (0.6.0)\n",
            "Requirement already satisfied: jmespath<2.0.0,>=0.7.1 in /usr/local/lib/python3.7/dist-packages (from boto3) (1.0.1)\n",
            "Requirement already satisfied: botocore<1.28.0,>=1.27.91 in /usr/local/lib/python3.7/dist-packages (from boto3) (1.27.91)\n",
            "Requirement already satisfied: urllib3<1.27,>=1.25.4 in /usr/local/lib/python3.7/dist-packages (from botocore<1.28.0,>=1.27.91->boto3) (1.26.12)\n",
            "Requirement already satisfied: python-dateutil<3.0.0,>=2.1 in /usr/local/lib/python3.7/dist-packages (from botocore<1.28.0,>=1.27.91->boto3) (2.8.2)\n",
            "Requirement already satisfied: six>=1.5 in /usr/local/lib/python3.7/dist-packages (from python-dateutil<3.0.0,>=2.1->botocore<1.28.0,>=1.27.91->boto3) (1.15.0)\n",
            "/content\n",
            "total 881004\n",
            "drwxr-xr-x  1 root root      4096 Oct 17 17:35 .\n",
            "drwxr-xr-x  1 root root      4096 Oct 17 17:09 ..\n",
            "drwxr-xr-x  4 root root      4096 Oct 14 19:04 .config\n",
            "-rw-r--r--  1 root root   1002883 Sep  7 12:37 postgresql-42.2.16.jar\n",
            "-rw-r--r--  1 root root   1046274 Sep  7 12:37 postgresql-42.5.0.jar\n",
            "-rw-r--r--  1 root root   1046274 Sep  7 12:37 postgresql-42.5.0.jar.1\n",
            "-rw-r--r--  1 root root   1046274 Sep  7 12:37 postgresql-42.5.0.jar.2\n",
            "drwxr-xr-x  1 root root      4096 Oct 14 19:05 sample_data\n",
            "drwxr-xr-x 13 1000 1000      4096 Jun  9 20:37 spark-3.3.0-bin-hadoop3\n",
            "-rw-r--r--  1 root root 299321244 Jun  9 20:39 spark-3.3.0-bin-hadoop3.tgz\n",
            "-rw-r--r--  1 root root 299321244 Jun  9 20:39 spark-3.3.0-bin-hadoop3.tgz.1\n",
            "-rw-r--r--  1 root root 299321244 Jun  9 20:39 spark-3.3.0-bin-hadoop3.tgz.2\n"
          ]
        }
      ]
    },
    {
      "cell_type": "code",
      "metadata": {
        "id": "_xKwTpATHqSe",
        "colab": {
          "base_uri": "https://localhost:8080/"
        },
        "outputId": "a4d9f07d-a776-495e-c099-0a63e28a3232"
      },
      "source": [
        "# Download the Postgres driver that will allow Spark to interact with Postgres.\n",
        "!wget https://jdbc.postgresql.org/download/postgresql-42.2.16.jar"
      ],
      "execution_count": 8,
      "outputs": [
        {
          "output_type": "stream",
          "name": "stdout",
          "text": [
            "--2022-10-17 17:35:41--  https://jdbc.postgresql.org/download/postgresql-42.2.16.jar\n",
            "Resolving jdbc.postgresql.org (jdbc.postgresql.org)... 72.32.157.228, 2001:4800:3e1:1::228\n",
            "Connecting to jdbc.postgresql.org (jdbc.postgresql.org)|72.32.157.228|:443... connected.\n",
            "HTTP request sent, awaiting response... 200 OK\n",
            "Length: 1002883 (979K) [application/java-archive]\n",
            "Saving to: ‘postgresql-42.2.16.jar.1’\n",
            "\n",
            "postgresql-42.2.16. 100%[===================>] 979.38K  1.18MB/s    in 0.8s    \n",
            "\n",
            "2022-10-17 17:35:44 (1.18 MB/s) - ‘postgresql-42.2.16.jar.1’ saved [1002883/1002883]\n",
            "\n"
          ]
        }
      ]
    },
    {
      "cell_type": "code",
      "source": [
        "pip install pyspark"
      ],
      "metadata": {
        "colab": {
          "base_uri": "https://localhost:8080/"
        },
        "id": "XOmU2HBkn2na",
        "outputId": "943ca5c1-fe86-49aa-a6d9-f85415eb1bda"
      },
      "execution_count": null,
      "outputs": [
        {
          "output_type": "stream",
          "name": "stdout",
          "text": [
            "Looking in indexes: https://pypi.org/simple, https://us-python.pkg.dev/colab-wheels/public/simple/\n",
            "Collecting pyspark\n",
            "  Downloading pyspark-3.3.0.tar.gz (281.3 MB)\n",
            "\u001b[K     |████████████████████████████████| 281.3 MB 29 kB/s \n",
            "\u001b[?25hCollecting py4j==0.10.9.5\n",
            "  Downloading py4j-0.10.9.5-py2.py3-none-any.whl (199 kB)\n",
            "\u001b[K     |████████████████████████████████| 199 kB 50.8 MB/s \n",
            "\u001b[?25hBuilding wheels for collected packages: pyspark\n",
            "  Building wheel for pyspark (setup.py) ... \u001b[?25l\u001b[?25hdone\n",
            "  Created wheel for pyspark: filename=pyspark-3.3.0-py2.py3-none-any.whl size=281764026 sha256=f740367298c963ca4cfe3dd42524cab064e5857faec30fe22b947c0f95def3fc\n",
            "  Stored in directory: /root/.cache/pip/wheels/7a/8e/1b/f73a52650d2e5f337708d9f6a1750d451a7349a867f928b885\n",
            "Successfully built pyspark\n",
            "Installing collected packages: py4j, pyspark\n",
            "Successfully installed py4j-0.10.9.5 pyspark-3.3.0\n"
          ]
        }
      ]
    },
    {
      "cell_type": "markdown",
      "metadata": {
        "id": "cyBsySGuY-9V"
      },
      "source": [
        "### Load Amazon Data into Spark DataFrame"
      ]
    },
    {
      "cell_type": "code",
      "metadata": {
        "id": "CtCmBhQJY-9Z",
        "colab": {
          "base_uri": "https://localhost:8080/"
        },
        "outputId": "47d993b9-78d0-4419-9d20-cab19cf9251e"
      },
      "source": [
        "from pyspark import SparkFiles\n",
        "url = \"https://s3.amazonaws.com/amazon-reviews-pds/tsv/amazon_reviews_us_Tools_v1_00.tsv.gz\"\n",
        "spark.sparkContext.addFile(url)\n",
        "df = spark.read.csv(SparkFiles.get(\"\"), sep=\"\\t\", header=True, inferSchema=True)\n",
        "df.show()\n"
      ],
      "execution_count": null,
      "outputs": [
        {
          "output_type": "stream",
          "name": "stdout",
          "text": [
            "+-----------+-----------+--------------+----------+--------------+--------------------+----------------+-----------+-------------+-----------+----+-----------------+--------------------+--------------------+-------------------+\n",
            "|marketplace|customer_id|     review_id|product_id|product_parent|       product_title|product_category|star_rating|helpful_votes|total_votes|vine|verified_purchase|     review_headline|         review_body|        review_date|\n",
            "+-----------+-----------+--------------+----------+--------------+--------------------+----------------+-----------+-------------+-----------+----+-----------------+--------------------+--------------------+-------------------+\n",
            "|         US|   15785389|R2UM5QMHBHC90Q|B00H5U9ZD6|     115362950|WallPeg 12 sq ft ...|           Tools|          5|            0|          0|   N|                Y|Great organizer, ...|Very nice. Will o...|2015-08-31 00:00:00|\n",
            "|         US|   47910848|  RF0D1LEIF6L7|B001TJGCS0|     570955425|Nite Ize Nite Daw...|           Tools|          4|            0|          0|   N|                Y|Like it, but the ...|Like it, but the ...|2015-08-31 00:00:00|\n",
            "|         US|   36328996|  RM6YKIWQVNSY|B000NIK8JW|     128843593|Stanley 84-058 4 ...|           Tools|          1|            6|          6|   N|                Y|        poor quality|We were excited t...|2015-08-31 00:00:00|\n",
            "|         US|   51785809|R1RL3L68ASPS36|B008ZYRGUA|     407828107|Powerextra 14.4V ...|           Tools|          4|            0|          0|   N|                Y|          Four Stars|Quick delivery. P...|2015-08-31 00:00:00|\n",
            "|         US|   40757491|R1U4XFBFAG34CY|B00K5CA0GC|     490746675|Waterproof Invisi...|           Tools|          5|            0|          0|   N|                Y|          Five Stars|Quality waterproo...|2015-08-31 00:00:00|\n",
            "|         US|   35544833|R3KFIK8P0I91PL|B00AIJAA94|     148352067|Crime Scene Do No...|           Tools|          5|            0|          0|   N|                Y|Excellent Decorat...|Ordered for my hu...|2015-08-31 00:00:00|\n",
            "|         US|   16474909| RENOAY76PPK1O|B00JKEI6K8|     331801084|Aweek® 2 Pcs Bicy...|           Tools|          5|            0|          0|   N|                Y|          Five Stars|GREAT SELLER PROD...|2015-08-31 00:00:00|\n",
            "|         US|   22601598| RINV884I0NL5V|B00AGCHVS6|     471514859|Ryobi P102 Genuin...|           Tools|          1|            0|          0|   N|                Y|Worked great for ...|My battery has di...|2015-08-31 00:00:00|\n",
            "|         US|   16129808| R5KJH6CXZH2PX|B002S0O7U4|     162253576|Wiha 66995 6-Piec...|           Tools|          5|            0|          0|   N|                Y|       Great quality|Great product at ...|2015-08-31 00:00:00|\n",
            "|         US|   24382335| RO69JF6QWD0W1|B0084YHXMW|      69530650|TOMTOP LED Submar...|           Tools|          5|            0|          0|   N|                Y|          Five Stars|           Excellent|2015-08-31 00:00:00|\n",
            "|         US|   49796324|R3L9NQBH3FI55C|B00MLSS1SW|     916693555|Black & Decker BD...|           Tools|          4|            1|          1|   N|                Y|Really worked great!|This little sande...|2015-08-31 00:00:00|\n",
            "|         US|   33289687| R4YH95YPHVU0C|B00D4WLS2A|      39333316|Crain 126 Staple ...|           Tools|          5|            0|          0|   N|                Y|         LOVE IT!!!!|This is the most ...|2015-08-31 00:00:00|\n",
            "|         US|   10916386|R10M1WWDDQBGG2|B00JGCDV5Y|     550596607|Diamond Semi Roun...|           Tools|          2|            0|          0|   N|                Y|I needed to cut s...|I needed to cut s...|2015-08-31 00:00:00|\n",
            "|         US|   34071500| RV3KWQBTNIO62|B00N0PS3YM|     735538025|It Mall 9 LED 375...|           Tools|          5|            1|          1|   N|                Y|   Works pretty well|Lights up small d...|2015-08-31 00:00:00|\n",
            "|         US|   50594486|R1M7YUNLZI0G9F|B0000DD4KV|     506501960|IRWIN Tools Metri...|           Tools|          5|            1|          1|   N|                Y|          Five Stars|Great product for...|2015-08-31 00:00:00|\n",
            "|         US|   21945887|R2MTL2D4E4HEF4|B0009H5FB8|     268586246|743022-A Backing ...|           Tools|          5|            0|          0|   N|                Y|          Five Stars|Many thanks for t...|2015-08-31 00:00:00|\n",
            "|         US|   47749608| RXAHWIC1584UQ|B00NKSMPZW|     824618679|ClearArmor 141001...|           Tools|          5|           20|         23|   N|                Y|          Five Stars|geart product :) ...|2015-08-31 00:00:00|\n",
            "|         US|   48880662| RMOIQFERVQDWS|B00RBAB92K|     156791442|KKmoon 9cm Mini A...|           Tools|          5|            0|          0|   N|                Y|          Five Stars|           very good|2015-08-31 00:00:00|\n",
            "|         US|    4660265| R710G45MKODY9|B00QGBNZVI|     962324810|Refun E6 High Pow...|           Tools|          2|            1|          1|   N|                Y|           Two Stars|Scratches on lenses.|2015-08-31 00:00:00|\n",
            "|         US|   18397238|R23ZIUGUM7TBMY|B00XXU3CDG|     543062309|Dr.meter S20 Mois...|           Tools|          1|            0|          1|   N|                Y|Don't waste your ...|It's a piece of $...|2015-08-31 00:00:00|\n",
            "+-----------+-----------+--------------+----------+--------------+--------------------+----------------+-----------+-------------+-----------+----+-----------------+--------------------+--------------------+-------------------+\n",
            "only showing top 20 rows\n",
            "\n"
          ]
        }
      ]
    },
    {
      "cell_type": "markdown",
      "metadata": {
        "id": "2yUSe55VY-9t"
      },
      "source": [
        "### Create DataFrames to match tables"
      ]
    },
    {
      "cell_type": "code",
      "source": [
        "# Change the datatypes of following columns:\n",
        "#  customer_id, product_parent, star_rating, helpful_votes, total_votes\n",
        "from pyspark.sql.types import IntegerType\n",
        "# Review DataFrame\n",
        "\n",
        "df = df.withColumn(\"customer_id\", df[\"customer_id\"].cast(IntegerType()))\n",
        "df = df.withColumn(\"product_parent\", df[\"product_parent\"].cast(IntegerType()))\n",
        "df = df.withColumn(\"star_rating\", df[\"star_rating\"].cast(IntegerType()))\n",
        "df = df.withColumn(\"helpful_votes\", df[\"helpful_votes\"].cast(IntegerType()))\n",
        "df = df.withColumn(\"total_votes\", df[\"total_votes\"].cast(IntegerType()))\n"
      ],
      "metadata": {
        "id": "J3JZuimaSjtM"
      },
      "execution_count": null,
      "outputs": []
    },
    {
      "cell_type": "code",
      "metadata": {
        "id": "C8REmY1aY-9u"
      },
      "source": [
        "from pyspark.sql.functions import to_date\n",
        "# # Review DataFrame\n",
        "# review_id_df = df.select([\"review_id\", \"customer_id\", \"product_id\", \"product_parent\", to_date(\"review_date\", 'yyyy-MM-dd').alias(\"review_date\")])\n",
        "# review_id_df.show()\n"
      ],
      "execution_count": null,
      "outputs": []
    },
    {
      "cell_type": "code",
      "metadata": {
        "id": "B0TESUDRY-90",
        "colab": {
          "base_uri": "https://localhost:8080/"
        },
        "outputId": "dce01a76-a0a7-4df5-d781-59803f848094"
      },
      "source": [
        "\n",
        "# Create the customers_table DataFrame\n",
        "customers_df = df.groupby(\"customer_id\").agg({\"customer_id\":\"count\"}).withColumnRenamed(\"count(customer_id)\", \"customer_count\")\n",
        "customers_df.show()"
      ],
      "execution_count": null,
      "outputs": [
        {
          "output_type": "stream",
          "name": "stdout",
          "text": [
            "+-----------+--------------+\n",
            "|customer_id|customer_count|\n",
            "+-----------+--------------+\n",
            "|   45978717|             2|\n",
            "|   43622307|             1|\n",
            "|     740678|             4|\n",
            "|   29045703|             1|\n",
            "|   52484548|             3|\n",
            "|   42560427|             4|\n",
            "|   17067926|             1|\n",
            "|   10093406|             1|\n",
            "|   44979559|             1|\n",
            "|   19432125|             1|\n",
            "|   26079415|             1|\n",
            "|   29931671|             1|\n",
            "|   12945150|             3|\n",
            "|   12036434|             1|\n",
            "|   14230926|             1|\n",
            "|   45015535|             1|\n",
            "|   39064792|             1|\n",
            "|   20709090|             1|\n",
            "|   45074906|             1|\n",
            "|   26767269|             2|\n",
            "+-----------+--------------+\n",
            "only showing top 20 rows\n",
            "\n"
          ]
        }
      ]
    },
    {
      "cell_type": "code",
      "metadata": {
        "id": "4FwXA6UvY-96",
        "colab": {
          "base_uri": "https://localhost:8080/"
        },
        "outputId": "a20d485d-3e4e-4eb9-9256-a715b8889c09"
      },
      "source": [
        "# Create the products_table DataFrame and drop duplicates. \n",
        "products_df = df.select([\"product_id\",\"product_title\"]).drop_duplicates([\"product_id\"])\n",
        "products_df.show()\n"
      ],
      "execution_count": null,
      "outputs": [
        {
          "output_type": "stream",
          "name": "stdout",
          "text": [
            "+----------+--------------------+\n",
            "|product_id|       product_title|\n",
            "+----------+--------------------+\n",
            "|0258231246|Himalaya Shuddha ...|\n",
            "|0328305030|Illinois Industri...|\n",
            "|057802697X|Build A Sculpture...|\n",
            "|0578060604|Build A Maloof In...|\n",
            "|0615247881|Pen Turning with ...|\n",
            "|0645230227|2 X Vicco Narayan...|\n",
            "|0829164383|Himalaya Manjisht...|\n",
            "|0958057133|Fastener Black Bo...|\n",
            "|0970704615|Build Your Own Lo...|\n",
            "|1012151026|Dabur Pure Indian...|\n",
            "|1036987434|Divya Kesh Tail (...|\n",
            "|111556000X|Divya Dant Kanti ...|\n",
            "|112233446X|Dabur Amla Gold H...|\n",
            "|1304757439|Dentist Office Pa...|\n",
            "|1456987682|Maybelline the Co...|\n",
            "|1465799281|Sesa Oil (For Lon...|\n",
            "|1465799796|Confido Tablets P...|\n",
            "|1558706879|The Pocket Hole D...|\n",
            "|1582095744|Stainless Steel 1...|\n",
            "|160085947X|2012 Taunton Fine...|\n",
            "+----------+--------------------+\n",
            "only showing top 20 rows\n",
            "\n"
          ]
        }
      ]
    },
    {
      "cell_type": "code",
      "metadata": {
        "id": "MkqyCuNQY-9-",
        "colab": {
          "base_uri": "https://localhost:8080/"
        },
        "outputId": "347e9f48-837c-4be7-b938-736dba150a94"
      },
      "source": [
        "# Create the review_id_table DataFrame. \n",
        "# Convert the 'review_date' column to a date datatype with to_date(\"review_date\", 'yyyy-MM-dd').alias(\"review_date\")\n",
        "review_id_df = df.select([\"review_id\", \"customer_id\", \"product_id\", \"product_parent\", to_date(\"review_date\", 'yyyy-MM-dd').alias(\"review_date\")])\n",
        "review_id_df.show()"
      ],
      "execution_count": null,
      "outputs": [
        {
          "output_type": "stream",
          "name": "stdout",
          "text": [
            "+--------------+-----------+----------+--------------+-----------+\n",
            "|     review_id|customer_id|product_id|product_parent|review_date|\n",
            "+--------------+-----------+----------+--------------+-----------+\n",
            "|R2UM5QMHBHC90Q|   15785389|B00H5U9ZD6|     115362950| 2015-08-31|\n",
            "|  RF0D1LEIF6L7|   47910848|B001TJGCS0|     570955425| 2015-08-31|\n",
            "|  RM6YKIWQVNSY|   36328996|B000NIK8JW|     128843593| 2015-08-31|\n",
            "|R1RL3L68ASPS36|   51785809|B008ZYRGUA|     407828107| 2015-08-31|\n",
            "|R1U4XFBFAG34CY|   40757491|B00K5CA0GC|     490746675| 2015-08-31|\n",
            "|R3KFIK8P0I91PL|   35544833|B00AIJAA94|     148352067| 2015-08-31|\n",
            "| RENOAY76PPK1O|   16474909|B00JKEI6K8|     331801084| 2015-08-31|\n",
            "| RINV884I0NL5V|   22601598|B00AGCHVS6|     471514859| 2015-08-31|\n",
            "| R5KJH6CXZH2PX|   16129808|B002S0O7U4|     162253576| 2015-08-31|\n",
            "| RO69JF6QWD0W1|   24382335|B0084YHXMW|      69530650| 2015-08-31|\n",
            "|R3L9NQBH3FI55C|   49796324|B00MLSS1SW|     916693555| 2015-08-31|\n",
            "| R4YH95YPHVU0C|   33289687|B00D4WLS2A|      39333316| 2015-08-31|\n",
            "|R10M1WWDDQBGG2|   10916386|B00JGCDV5Y|     550596607| 2015-08-31|\n",
            "| RV3KWQBTNIO62|   34071500|B00N0PS3YM|     735538025| 2015-08-31|\n",
            "|R1M7YUNLZI0G9F|   50594486|B0000DD4KV|     506501960| 2015-08-31|\n",
            "|R2MTL2D4E4HEF4|   21945887|B0009H5FB8|     268586246| 2015-08-31|\n",
            "| RXAHWIC1584UQ|   47749608|B00NKSMPZW|     824618679| 2015-08-31|\n",
            "| RMOIQFERVQDWS|   48880662|B00RBAB92K|     156791442| 2015-08-31|\n",
            "| R710G45MKODY9|    4660265|B00QGBNZVI|     962324810| 2015-08-31|\n",
            "|R23ZIUGUM7TBMY|   18397238|B00XXU3CDG|     543062309| 2015-08-31|\n",
            "+--------------+-----------+----------+--------------+-----------+\n",
            "only showing top 20 rows\n",
            "\n"
          ]
        }
      ]
    },
    {
      "cell_type": "code",
      "metadata": {
        "id": "lzMmkdKmY--D",
        "colab": {
          "base_uri": "https://localhost:8080/"
        },
        "outputId": "ed912e2c-cd72-4b51-a5f2-6265a3e62b47"
      },
      "source": [
        "# Create the vine_table. DataFrame\n",
        "vine_df = df.select([\"review_id\", \"star_rating\",\"helpful_votes\",\"total_votes\",\"vine\",\"verified_purchase\"])\n",
        "vine_df.show()"
      ],
      "execution_count": null,
      "outputs": [
        {
          "output_type": "stream",
          "name": "stdout",
          "text": [
            "+--------------+-----------+-------------+-----------+----+-----------------+\n",
            "|     review_id|star_rating|helpful_votes|total_votes|vine|verified_purchase|\n",
            "+--------------+-----------+-------------+-----------+----+-----------------+\n",
            "|R2UM5QMHBHC90Q|          5|            0|          0|   N|                Y|\n",
            "|  RF0D1LEIF6L7|          4|            0|          0|   N|                Y|\n",
            "|  RM6YKIWQVNSY|          1|            6|          6|   N|                Y|\n",
            "|R1RL3L68ASPS36|          4|            0|          0|   N|                Y|\n",
            "|R1U4XFBFAG34CY|          5|            0|          0|   N|                Y|\n",
            "|R3KFIK8P0I91PL|          5|            0|          0|   N|                Y|\n",
            "| RENOAY76PPK1O|          5|            0|          0|   N|                Y|\n",
            "| RINV884I0NL5V|          1|            0|          0|   N|                Y|\n",
            "| R5KJH6CXZH2PX|          5|            0|          0|   N|                Y|\n",
            "| RO69JF6QWD0W1|          5|            0|          0|   N|                Y|\n",
            "|R3L9NQBH3FI55C|          4|            1|          1|   N|                Y|\n",
            "| R4YH95YPHVU0C|          5|            0|          0|   N|                Y|\n",
            "|R10M1WWDDQBGG2|          2|            0|          0|   N|                Y|\n",
            "| RV3KWQBTNIO62|          5|            1|          1|   N|                Y|\n",
            "|R1M7YUNLZI0G9F|          5|            1|          1|   N|                Y|\n",
            "|R2MTL2D4E4HEF4|          5|            0|          0|   N|                Y|\n",
            "| RXAHWIC1584UQ|          5|           20|         23|   N|                Y|\n",
            "| RMOIQFERVQDWS|          5|            0|          0|   N|                Y|\n",
            "| R710G45MKODY9|          2|            1|          1|   N|                Y|\n",
            "|R23ZIUGUM7TBMY|          1|            0|          1|   N|                Y|\n",
            "+--------------+-----------+-------------+-----------+----+-----------------+\n",
            "only showing top 20 rows\n",
            "\n"
          ]
        }
      ]
    },
    {
      "cell_type": "markdown",
      "metadata": {
        "id": "jITZhLkmY--J"
      },
      "source": [
        "### Connect to the AWS RDS instance and write each DataFrame to its table. "
      ]
    },
    {
      "cell_type": "code",
      "metadata": {
        "id": "7jiUvs1aY--L"
      },
      "source": [
        "# Configure settings for RDS\n",
        "mode = \"append\"\n",
        "jdbc_url=\"jdbc:postgresql://amazon-kitchen.cllpmovnahkz.us-west-2.rds.amazonaws.com:5432/postgres\"\n",
        "config = {\"user\":\"postgres\", \n",
        "          \"password\": \"cows2525\", \n",
        "          \"driver\":\"org.postgresql.Driver\"}"
      ],
      "execution_count": null,
      "outputs": []
    },
    {
      "cell_type": "code",
      "metadata": {
        "id": "T2zgZ-aKY--Q"
      },
      "source": [
        "# # # Write review_id_df to table in RDS\n",
        "review_id_df.write.jdbc(url=jdbc_url, table='review_id_table', mode=mode, properties=config)"
      ],
      "execution_count": null,
      "outputs": []
    },
    {
      "cell_type": "code",
      "metadata": {
        "id": "1m3yzn-LY--U"
      },
      "source": [
        "# Write products_df to table in RDS\n",
        "# about 3 min\n",
        "products_df.write.jdbc(url=jdbc_url, table='products_table', mode=mode, properties=config)"
      ],
      "execution_count": null,
      "outputs": []
    },
    {
      "cell_type": "code",
      "metadata": {
        "id": "KbXri15fY--Z"
      },
      "source": [
        "# Write customers_df to table in RDS\n",
        "# 5 min 14 s\n",
        "customers_df.write.jdbc(url=jdbc_url, table='customers_table', mode=mode, properties=config)"
      ],
      "execution_count": null,
      "outputs": []
    },
    {
      "cell_type": "code",
      "metadata": {
        "id": "XdQknSHLY--e"
      },
      "source": [
        "# Write vine_df to table in RDS\n",
        "# 11 minutes\n",
        "vine_df.write.jdbc(url=jdbc_url, table='vine_table', mode=mode, properties=config)"
      ],
      "execution_count": null,
      "outputs": []
    },
    {
      "cell_type": "markdown",
      "source": [
        "#** PYSpark Data Analysis of reviews**"
      ],
      "metadata": {
        "id": "DIGUE8jdvBlL"
      }
    },
    {
      "cell_type": "code",
      "source": [
        "new_df = (vine_df)"
      ],
      "metadata": {
        "id": "BHhTW7YB7Kyk"
      },
      "execution_count": null,
      "outputs": []
    },
    {
      "cell_type": "code",
      "source": [
        "more_than_20 = new_df.filter(new_df.total_votes >= 20)\n",
        "more_than_20.show()"
      ],
      "metadata": {
        "colab": {
          "base_uri": "https://localhost:8080/"
        },
        "id": "njCAOX7fHdXD",
        "outputId": "6daf0362-524a-4f6a-bcc4-4b3560ff54a0"
      },
      "execution_count": null,
      "outputs": [
        {
          "output_type": "stream",
          "name": "stdout",
          "text": [
            "+--------------+-----------+-------------+-----------+----+-----------------+\n",
            "|     review_id|star_rating|helpful_votes|total_votes|vine|verified_purchase|\n",
            "+--------------+-----------+-------------+-----------+----+-----------------+\n",
            "| RXAHWIC1584UQ|          5|           20|         23|   N|                Y|\n",
            "| RSBELAIC899DO|          5|           46|         51|   N|                Y|\n",
            "|R2HCC4CJ59D225|          4|           43|         43|   N|                Y|\n",
            "|R39BVCCVPRV6F5|          5|           10|         22|   N|                Y|\n",
            "| RL9VF9WXHEHKR|          5|           35|         36|   N|                Y|\n",
            "|R1ZINLWUOLTZ46|          1|           39|         45|   N|                N|\n",
            "|R1CQKM1K1CHOHS|          1|           21|         22|   N|                N|\n",
            "|R1ZG19X1NOLCRF|          5|            5|         21|   N|                Y|\n",
            "|R1YOX5Z4GF3ZSW|          1|            1|         22|   N|                Y|\n",
            "| R2DHAM7J1KMWN|          5|           23|         24|   N|                N|\n",
            "|R2KOLBXPW57WC3|          1|            4|         38|   N|                N|\n",
            "|R26EZ2INBETPU2|          1|          103|        128|   N|                N|\n",
            "|R265ZMDO2ISN1O|          5|           20|         21|   N|                Y|\n",
            "|R3NZ7JTOCPYE1S|          4|           32|         33|   N|                Y|\n",
            "|R3HQQ725T45NCH|          3|            9|         21|   N|                Y|\n",
            "|R15JJ5AGVSB71T|          5|           33|         33|   N|                Y|\n",
            "|R28WDBNT2XRACG|          1|           19|         24|   N|                Y|\n",
            "|R3HP224QDFQ2SN|          5|           21|         22|   N|                Y|\n",
            "| RTURVI4KNPMG1|          5|          146|        154|   N|                Y|\n",
            "| RH2BXZ337F38J|          5|           62|         66|   N|                Y|\n",
            "+--------------+-----------+-------------+-----------+----+-----------------+\n",
            "only showing top 20 rows\n",
            "\n"
          ]
        }
      ]
    },
    {
      "cell_type": "code",
      "source": [
        "more_than_50 = more_than_20.filter((more_than_20.helpful_votes/more_than_20.total_votes) >= .5)\n",
        "more_than_50 = more_than_50.withColumn(\"star_rating\", more_than_50[\"star_rating\"].cast(IntegerType()))\n",
        "# df = df.withColumn(\"customer_id\", df[\"customer_id\"].cast(IntegerType()))\n",
        "more_than_50.show()"
      ],
      "metadata": {
        "colab": {
          "base_uri": "https://localhost:8080/"
        },
        "id": "kPNnHx1i9tVa",
        "outputId": "5d87c91d-6ae2-43d2-f79b-8e4d24358341"
      },
      "execution_count": null,
      "outputs": [
        {
          "output_type": "stream",
          "name": "stdout",
          "text": [
            "+--------------+-----------+-------------+-----------+----+-----------------+\n",
            "|     review_id|star_rating|helpful_votes|total_votes|vine|verified_purchase|\n",
            "+--------------+-----------+-------------+-----------+----+-----------------+\n",
            "| RXAHWIC1584UQ|          5|           20|         23|   N|                Y|\n",
            "| RSBELAIC899DO|          5|           46|         51|   N|                Y|\n",
            "|R2HCC4CJ59D225|          4|           43|         43|   N|                Y|\n",
            "| RL9VF9WXHEHKR|          5|           35|         36|   N|                Y|\n",
            "|R1ZINLWUOLTZ46|          1|           39|         45|   N|                N|\n",
            "|R1CQKM1K1CHOHS|          1|           21|         22|   N|                N|\n",
            "| R2DHAM7J1KMWN|          5|           23|         24|   N|                N|\n",
            "|R26EZ2INBETPU2|          1|          103|        128|   N|                N|\n",
            "|R265ZMDO2ISN1O|          5|           20|         21|   N|                Y|\n",
            "|R3NZ7JTOCPYE1S|          4|           32|         33|   N|                Y|\n",
            "|R15JJ5AGVSB71T|          5|           33|         33|   N|                Y|\n",
            "|R28WDBNT2XRACG|          1|           19|         24|   N|                Y|\n",
            "|R3HP224QDFQ2SN|          5|           21|         22|   N|                Y|\n",
            "| RTURVI4KNPMG1|          5|          146|        154|   N|                Y|\n",
            "| RH2BXZ337F38J|          5|           62|         66|   N|                Y|\n",
            "|R3G8L2NRMZZHPI|          4|           23|         23|   N|                Y|\n",
            "|R21Q3I2ZEDSMZK|          5|           80|         84|   N|                Y|\n",
            "|R16MXXKY0MRKZW|          1|           48|         52|   N|                Y|\n",
            "|R121P6RES3Z7WC|          1|          145|        162|   N|                Y|\n",
            "|R1ILUNGUCRZGF3|          5|           21|         21|   N|                Y|\n",
            "+--------------+-----------+-------------+-----------+----+-----------------+\n",
            "only showing top 20 rows\n",
            "\n"
          ]
        }
      ]
    },
    {
      "cell_type": "code",
      "source": [
        "vine_program_yes = more_than_50.filter(more_than_50.vine == 'N')\n",
        "vine_program_yes.show()"
      ],
      "metadata": {
        "colab": {
          "base_uri": "https://localhost:8080/"
        },
        "id": "PyYXXNrygtId",
        "outputId": "ad36cea6-c521-473a-9c63-686e7fc887a0"
      },
      "execution_count": null,
      "outputs": [
        {
          "output_type": "stream",
          "name": "stdout",
          "text": [
            "+--------------+-----------+-------------+-----------+----+-----------------+\n",
            "|     review_id|star_rating|helpful_votes|total_votes|vine|verified_purchase|\n",
            "+--------------+-----------+-------------+-----------+----+-----------------+\n",
            "| RXAHWIC1584UQ|          5|           20|         23|   N|                Y|\n",
            "| RSBELAIC899DO|          5|           46|         51|   N|                Y|\n",
            "|R2HCC4CJ59D225|          4|           43|         43|   N|                Y|\n",
            "| RL9VF9WXHEHKR|          5|           35|         36|   N|                Y|\n",
            "|R1ZINLWUOLTZ46|          1|           39|         45|   N|                N|\n",
            "|R1CQKM1K1CHOHS|          1|           21|         22|   N|                N|\n",
            "| R2DHAM7J1KMWN|          5|           23|         24|   N|                N|\n",
            "|R26EZ2INBETPU2|          1|          103|        128|   N|                N|\n",
            "|R265ZMDO2ISN1O|          5|           20|         21|   N|                Y|\n",
            "|R3NZ7JTOCPYE1S|          4|           32|         33|   N|                Y|\n",
            "|R15JJ5AGVSB71T|          5|           33|         33|   N|                Y|\n",
            "|R28WDBNT2XRACG|          1|           19|         24|   N|                Y|\n",
            "|R3HP224QDFQ2SN|          5|           21|         22|   N|                Y|\n",
            "| RTURVI4KNPMG1|          5|          146|        154|   N|                Y|\n",
            "| RH2BXZ337F38J|          5|           62|         66|   N|                Y|\n",
            "|R3G8L2NRMZZHPI|          4|           23|         23|   N|                Y|\n",
            "|R21Q3I2ZEDSMZK|          5|           80|         84|   N|                Y|\n",
            "|R16MXXKY0MRKZW|          1|           48|         52|   N|                Y|\n",
            "|R121P6RES3Z7WC|          1|          145|        162|   N|                Y|\n",
            "|R1ILUNGUCRZGF3|          5|           21|         21|   N|                Y|\n",
            "+--------------+-----------+-------------+-----------+----+-----------------+\n",
            "only showing top 20 rows\n",
            "\n"
          ]
        }
      ]
    },
    {
      "cell_type": "code",
      "source": [
        "total_five_star = (more_than_50.where(more_than_50.star_rating == 5).count())"
      ],
      "metadata": {
        "id": "DmfuT0zMoZIF"
      },
      "execution_count": null,
      "outputs": []
    },
    {
      "cell_type": "code",
      "source": [
        "print(vine_program_yes.where(vine_program_yes.star_rating == 5 ).count())"
      ],
      "metadata": {
        "colab": {
          "base_uri": "https://localhost:8080/"
        },
        "id": "zyR8JxmahXie",
        "outputId": "f641a78b-531f-4d4a-f328-ca3a30d48d79"
      },
      "execution_count": null,
      "outputs": [
        {
          "output_type": "stream",
          "name": "stdout",
          "text": [
            "14614\n"
          ]
        }
      ]
    },
    {
      "cell_type": "code",
      "source": [
        "vine_program_no = more_than_50.filter(more_than_50.vine == 'Y')"
      ],
      "metadata": {
        "id": "hUuGdxi3sha3"
      },
      "execution_count": null,
      "outputs": []
    },
    {
      "cell_type": "code",
      "source": [
        "five_star_notpaid = (vine_program_yes.where(vine_program_yes.star_rating == 5 ).count())\n",
        "five_star_paid = (vine_program_no.where(vine_program_no.star_rating == 5).count())\n"
      ],
      "metadata": {
        "id": "1mGy1SunofUH"
      },
      "execution_count": null,
      "outputs": []
    },
    {
      "cell_type": "code",
      "source": [
        "not_paid_5star = (five_star_notpaid/total_five_star)*100\n",
        "not_paid_5star"
      ],
      "metadata": {
        "colab": {
          "base_uri": "https://localhost:8080/"
        },
        "id": "9tGZci0ytafG",
        "outputId": "9351d741-fcf2-4728-b921-a503a4a29e20"
      },
      "execution_count": null,
      "outputs": [
        {
          "output_type": "execute_result",
          "data": {
            "text/plain": [
              "98.89693442512012"
            ]
          },
          "metadata": {},
          "execution_count": 97
        }
      ]
    },
    {
      "cell_type": "code",
      "source": [
        "paid_5star = (five_star_paid/total_five_star)*100\n",
        "paid_5star"
      ],
      "metadata": {
        "colab": {
          "base_uri": "https://localhost:8080/"
        },
        "id": "yeztkFOzy0rn",
        "outputId": "17e1d1d7-46c9-47a6-94ec-f63792726645"
      },
      "execution_count": null,
      "outputs": [
        {
          "output_type": "execute_result",
          "data": {
            "text/plain": [
              "1.103065574879881"
            ]
          },
          "metadata": {},
          "execution_count": 96
        }
      ]
    },
    {
      "cell_type": "markdown",
      "source": [],
      "metadata": {
        "id": "Xd7HGqEb-jdG"
      }
    }
  ]
}